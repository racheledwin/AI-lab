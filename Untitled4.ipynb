{
  "nbformat": 4,
  "nbformat_minor": 0,
  "metadata": {
    "colab": {
      "provenance": [],
      "authorship_tag": "ABX9TyP6Yh+6nzEAxwDeHpuC8KAf",
      "include_colab_link": true
    },
    "kernelspec": {
      "name": "python3",
      "display_name": "Python 3"
    },
    "language_info": {
      "name": "python"
    }
  },
  "cells": [
    {
      "cell_type": "markdown",
      "metadata": {
        "id": "view-in-github",
        "colab_type": "text"
      },
      "source": [
        "<a href=\"https://colab.research.google.com/github/racheledwin/AI-lab/blob/main/Untitled4.ipynb\" target=\"_parent\"><img src=\"https://colab.research.google.com/assets/colab-badge.svg\" alt=\"Open In Colab\"/></a>"
      ]
    },
    {
      "cell_type": "code",
      "execution_count": 1,
      "metadata": {
        "colab": {
          "base_uri": "https://localhost:8080/"
        },
        "id": "2bod9rMt7fXf",
        "outputId": "bdbfa411-e2e4-4287-a1ed-5335a18126ad"
      },
      "outputs": [
        {
          "output_type": "stream",
          "name": "stdout",
          "text": [
            "The Path is:\n",
            "(8, 0) -> (7, 0) -> (6, 0) -> (6, 1) -> (6, 2) -> (5, 2) -> (4, 2) -> (4, 1) -> (4, 0) -> (3, 0) -> (2, 0) -> (1, 0) -> (0, 0)\n"
          ]
        }
      ],
      "source": [
        "import heapq\n",
        "\n",
        "def heuristic(a, b):\n",
        "    # Manhattan Distance\n",
        "    return abs(a[0] - b[0]) + abs(a[1] - b[1])\n",
        "\n",
        "def a_star(grid, start, goal):\n",
        "    rows, cols = len(grid), len(grid[0])\n",
        "    open_set = []\n",
        "    heapq.heappush(open_set, (0, start))\n",
        "    came_from = {}\n",
        "    g_score = {start: 0}\n",
        "\n",
        "    while open_set:\n",
        "        _, current = heapq.heappop(open_set)\n",
        "\n",
        "        if current == goal:\n",
        "            path = []\n",
        "            while current in came_from:\n",
        "                path.append(current)\n",
        "                current = came_from[current]\n",
        "            path.append(start)\n",
        "            return path[::-1]  # reverse path\n",
        "\n",
        "        x, y = current\n",
        "        for dx, dy in [(-1,0),(1,0),(0,-1),(0,1)]:\n",
        "            nx, ny = x + dx, y + dy\n",
        "            neighbor = (nx, ny)\n",
        "\n",
        "            if 0 <= nx < rows and 0 <= ny < cols and grid[nx][ny] == 0:\n",
        "                tentative_g_score = g_score[current] + 1\n",
        "\n",
        "                if neighbor not in g_score or tentative_g_score < g_score[neighbor]:\n",
        "                    g_score[neighbor] = tentative_g_score\n",
        "                    f_score = tentative_g_score + heuristic(neighbor, goal)\n",
        "                    heapq.heappush(open_set, (f_score, neighbor))\n",
        "                    came_from[neighbor] = current\n",
        "    return None  # No path found\n",
        "\n",
        "# Define grid (0 = free, 1 = obstacle)\n",
        "grid = [\n",
        "    [0, 0, 0, 0, 0],\n",
        "    [0, 1, 1, 1, 0],\n",
        "    [0, 1, 0, 1, 0],\n",
        "    [0, 1, 0, 0, 0],\n",
        "    [0, 0, 0, 1, 0],\n",
        "    [1, 1, 0, 1, 0],\n",
        "    [0, 0, 0, 1, 0],\n",
        "    [0, 1, 0, 0, 0],\n",
        "    [0, 0, 0, 1, 0]\n",
        "]\n",
        "\n",
        "start = (8, 0)\n",
        "goal = (0, 0)\n",
        "\n",
        "path = a_star(grid, start, goal)\n",
        "\n",
        "# Display Result\n",
        "if path:\n",
        "    print(\"The Path is:\")\n",
        "    print(\" -> \".join(map(str, path)))\n",
        "else:\n",
        "    print(\"No path found.\")\n"
      ]
    }
  ]
}