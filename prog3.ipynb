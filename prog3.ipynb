{
  "nbformat": 4,
  "nbformat_minor": 0,
  "metadata": {
    "colab": {
      "provenance": [],
      "authorship_tag": "ABX9TyM4uTjTkEFlzkURsFc1Xq6L",
      "include_colab_link": true
    },
    "kernelspec": {
      "name": "python3",
      "display_name": "Python 3"
    },
    "language_info": {
      "name": "python"
    }
  },
  "cells": [
    {
      "cell_type": "markdown",
      "metadata": {
        "id": "view-in-github",
        "colab_type": "text"
      },
      "source": [
        "<a href=\"https://colab.research.google.com/github/racheledwin/AI-lab/blob/main/prog3.ipynb\" target=\"_parent\"><img src=\"https://colab.research.google.com/assets/colab-badge.svg\" alt=\"Open In Colab\"/></a>"
      ]
    },
    {
      "cell_type": "code",
      "execution_count": 1,
      "metadata": {
        "colab": {
          "base_uri": "https://localhost:8080/"
        },
        "id": "K6fz-B3k49zx",
        "outputId": "6352d368-1332-4283-96d2-1289bee6431a"
      },
      "outputs": [
        {
          "output_type": "stream",
          "name": "stdout",
          "text": [
            "Cost: 4\n",
            "Path: A -> B -> C -> D\n"
          ]
        }
      ],
      "source": [
        "from queue import PriorityQueue\n",
        "\n",
        "# Step 1: Define the graph as an adjacency list with weighted edges\n",
        "graph = {\n",
        "    'A': [('B', 1), ('C', 4)],\n",
        "    'B': [('C', 2), ('D', 5)],\n",
        "    'C': [('D', 1)],\n",
        "    'D': []\n",
        "}\n",
        "\n",
        "def uniform_cost_search(start, goal):\n",
        "    visited = set()\n",
        "    pq = PriorityQueue()\n",
        "    pq.put((0, start, [start]))  # (cost, current_node, path)\n",
        "\n",
        "    while not pq.empty():\n",
        "        cost, node, path = pq.get()\n",
        "\n",
        "        if node == goal:\n",
        "            return cost, path\n",
        "\n",
        "        if node not in visited:\n",
        "            visited.add(node)\n",
        "\n",
        "            for neighbor, weight in graph.get(node, []):\n",
        "                if neighbor not in visited:\n",
        "                    pq.put((cost + weight, neighbor, path + [neighbor]))\n",
        "\n",
        "    return float(\"inf\"), []\n",
        "\n",
        "# Step 4: Call the function with start and goal nodes\n",
        "total_cost, path = uniform_cost_search('A', 'D')\n",
        "\n",
        "# Step 5: Display the result\n",
        "print(\"Cost:\", total_cost)\n",
        "print(\"Path:\", \" -> \".join(path))\n"
      ]
    }
  ]
}