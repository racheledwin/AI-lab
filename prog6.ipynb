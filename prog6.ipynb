{
  "nbformat": 4,
  "nbformat_minor": 0,
  "metadata": {
    "colab": {
      "provenance": [],
      "authorship_tag": "ABX9TyPeDr6D6bBRp/WsPrm7aoDe",
      "include_colab_link": true
    },
    "kernelspec": {
      "name": "python3",
      "display_name": "Python 3"
    },
    "language_info": {
      "name": "python"
    }
  },
  "cells": [
    {
      "cell_type": "markdown",
      "metadata": {
        "id": "view-in-github",
        "colab_type": "text"
      },
      "source": [
        "<a href=\"https://colab.research.google.com/github/racheledwin/AI-lab/blob/main/prog6.ipynb\" target=\"_parent\"><img src=\"https://colab.research.google.com/assets/colab-badge.svg\" alt=\"Open In Colab\"/></a>"
      ]
    },
    {
      "cell_type": "code",
      "execution_count": 1,
      "metadata": {
        "colab": {
          "base_uri": "https://localhost:8080/"
        },
        "id": "6BlMrb1l-E_J",
        "outputId": "6b308772-aa9b-4126-a233-33430b191289"
      },
      "outputs": [
        {
          "output_type": "stream",
          "name": "stdout",
          "text": [
            "The optimal value is: 5\n"
          ]
        }
      ],
      "source": [
        "# Alpha-Beta Pruning Implementation in Python\n",
        "\n",
        "def alphabeta(depth, nodeIndex, isMax, values, alpha, beta):\n",
        "    # Base case: leaf node\n",
        "    if depth == 3:\n",
        "        return values[nodeIndex]\n",
        "\n",
        "    if isMax:\n",
        "        best = float('-inf')\n",
        "\n",
        "        # Recur for left and right children\n",
        "        for i in range(2):\n",
        "            val = alphabeta(depth + 1, nodeIndex * 2 + i, False, values, alpha, beta)\n",
        "            best = max(best, val)\n",
        "            alpha = max(alpha, best)\n",
        "\n",
        "            # Prune\n",
        "            if beta <= alpha:\n",
        "                break\n",
        "        return best\n",
        "\n",
        "    else:\n",
        "        best = float('inf')\n",
        "\n",
        "        # Recur for left and right children\n",
        "        for i in range(2):\n",
        "            val = alphabeta(depth + 1, nodeIndex * 2 + i, True, values, alpha, beta)\n",
        "            best = min(best, val)\n",
        "            beta = min(beta, best)\n",
        "\n",
        "            # Prune\n",
        "            if beta <= alpha:\n",
        "                break\n",
        "        return best\n",
        "\n",
        "# Sample game tree (leaf values at depth = 3)\n",
        "values = [3, 5, 6, 9, 1, 2, 0, -1]\n",
        "\n",
        "# Call alphabeta search\n",
        "print(\"The optimal value is:\", alphabeta(0, 0, True, values, float('-inf'), float('inf')))\n"
      ]
    }
  ]
}