{
  "nbformat": 4,
  "nbformat_minor": 0,
  "metadata": {
    "colab": {
      "provenance": [],
      "authorship_tag": "ABX9TyMekMTy2HpF/xla2Dq5oSTV",
      "include_colab_link": true
    },
    "kernelspec": {
      "name": "python3",
      "display_name": "Python 3"
    },
    "language_info": {
      "name": "python"
    }
  },
  "cells": [
    {
      "cell_type": "markdown",
      "metadata": {
        "id": "view-in-github",
        "colab_type": "text"
      },
      "source": [
        "<a href=\"https://colab.research.google.com/github/racheledwin/AI-lab/blob/main/Untitled1.ipynb\" target=\"_parent\"><img src=\"https://colab.research.google.com/assets/colab-badge.svg\" alt=\"Open In Colab\"/></a>"
      ]
    },
    {
      "cell_type": "code",
      "execution_count": 1,
      "metadata": {
        "colab": {
          "base_uri": "https://localhost:8080/"
        },
        "id": "9v6ZbUY53TK6",
        "outputId": "5ecf4f3c-3436-4a14-aa9c-7e7b77a7c0b6"
      },
      "outputs": [
        {
          "output_type": "stream",
          "name": "stdout",
          "text": [
            "DataFrame:\n",
            "      Name  Age Department  Salary\n",
            "0    Alice   24         HR   50000\n",
            "1      Bob   27    Finance   60000\n",
            "2  Charlie   22         IT   55000\n",
            "3    David   32  Marketing   65000\n",
            "\n",
            "Names:\n",
            "0      Alice\n",
            "1        Bob\n",
            "2    Charlie\n",
            "3      David\n",
            "Name: Name, dtype: object\n"
          ]
        }
      ],
      "source": [
        "# Step 2: Import the pandas library\n",
        "import pandas as pd\n",
        "\n",
        "# Step 3: Create a DataFrame\n",
        "data = {\n",
        "    'Name': ['Alice', 'Bob', 'Charlie', 'David'],\n",
        "    'Age': [24, 27, 22, 32],\n",
        "    'Department': ['HR', 'Finance', 'IT', 'Marketing'],\n",
        "    'Salary': [50000, 60000, 55000, 65000]\n",
        "}\n",
        "\n",
        "df = pd.DataFrame(data)\n",
        "\n",
        "# Step 4: Perform operations\n",
        "print(\"DataFrame:\")\n",
        "print(df)\n",
        "\n",
        "# Access specific column\n",
        "print(\"\\nNames:\")\n",
        "print(df['Name'])\n"
      ]
    }
  ]
}
