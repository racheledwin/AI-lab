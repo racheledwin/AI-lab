{
  "nbformat": 4,
  "nbformat_minor": 0,
  "metadata": {
    "colab": {
      "provenance": [],
      "authorship_tag": "ABX9TyM6+2A9DFA5ZFIE1ka5wMfK",
      "include_colab_link": true
    },
    "kernelspec": {
      "name": "python3",
      "display_name": "Python 3"
    },
    "language_info": {
      "name": "python"
    }
  },
  "cells": [
    {
      "cell_type": "markdown",
      "metadata": {
        "id": "view-in-github",
        "colab_type": "text"
      },
      "source": [
        "<a href=\"https://colab.research.google.com/github/racheledwin/AI-lab/blob/main/program_1.ipynb\" target=\"_parent\"><img src=\"https://colab.research.google.com/assets/colab-badge.svg\" alt=\"Open In Colab\"/></a>"
      ]
    },
    {
      "cell_type": "code",
      "execution_count": 1,
      "metadata": {
        "colab": {
          "base_uri": "https://localhost:8080/"
        },
        "id": "4wY8dQC_2nEF",
        "outputId": "b06e954f-b823-44b6-b851-836423e8620c"
      },
      "outputs": [
        {
          "output_type": "stream",
          "name": "stdout",
          "text": [
            "Original array: [12  4 56  7 29 10]\n",
            "Sorted array: [ 4  7 10 12 29 56]\n"
          ]
        }
      ],
      "source": [
        "# Step 2: Import the NumPy library\n",
        "import numpy as np\n",
        "\n",
        "# Step 3: Create an array\n",
        "original_array = np.array([12, 4, 56, 7, 29, 10])\n",
        "\n",
        "# Step 4: Sort the array using numpy.sort()\n",
        "sorted_array = np.sort(original_array)\n",
        "\n",
        "# Step 5: Display the arrays\n",
        "print(\"Original array:\", original_array)\n",
        "print(\"Sorted array:\", sorted_array)\n"
      ]
    }
  ]
}