{
  "nbformat": 4,
  "nbformat_minor": 0,
  "metadata": {
    "colab": {
      "provenance": [],
      "authorship_tag": "ABX9TyNT8rrOE1ur4nwPOWFENNE1",
      "include_colab_link": true
    },
    "kernelspec": {
      "name": "python3",
      "display_name": "Python 3"
    },
    "language_info": {
      "name": "python"
    }
  },
  "cells": [
    {
      "cell_type": "markdown",
      "metadata": {
        "id": "view-in-github",
        "colab_type": "text"
      },
      "source": [
        "<a href=\"https://colab.research.google.com/github/racheledwin/AI-lab/blob/main/prog5.ipynb\" target=\"_parent\"><img src=\"https://colab.research.google.com/assets/colab-badge.svg\" alt=\"Open In Colab\"/></a>"
      ]
    },
    {
      "cell_type": "code",
      "execution_count": 1,
      "metadata": {
        "colab": {
          "base_uri": "https://localhost:8080/"
        },
        "id": "1QArsdds7-Sh",
        "outputId": "25e81226-d76c-4639-a578-6b5a96cc3f92"
      },
      "outputs": [
        {
          "output_type": "stream",
          "name": "stdout",
          "text": [
            "Starting Hill Climbing Algorithm...\n",
            "Iteration 1: Best solution = -0.8351439605200757, Objective value = 1.3025345652068423\n",
            "Iteration 100: Best solution = 0.0024156862510709143, Objective value = 1.9999941644599364\n",
            "Iteration 200: Best solution = 0.0007994463179445271, Objective value = 1.9999993608855848\n",
            "Iteration 300: Best solution = 0.000541906741240078, Objective value = 1.9999997063370838\n",
            "Iteration 400: Best solution = 0.00020448231307203246, Objective value = 1.9999999581869836\n",
            "Iteration 500: Best solution = 0.00020448231307203246, Objective value = 1.9999999581869836\n",
            "Iteration 600: Best solution = 0.00020448231307203246, Objective value = 1.9999999581869836\n",
            "Iteration 700: Best solution = -0.00016111139811554598, Objective value = 1.9999999740431174\n",
            "Iteration 800: Best solution = -0.00016111139811554598, Objective value = 1.9999999740431174\n",
            "Iteration 900: Best solution = -0.00016111139811554598, Objective value = 1.9999999740431174\n",
            "Iteration 1000: Best solution = -0.00016111139811554598, Objective value = 1.9999999740431174\n",
            "Hill Climbing Algorithm terminated.\n",
            "Best solution found: -0.00016111139811554598\n",
            "Objective value at best solution: 1.9999999740431174\n"
          ]
        }
      ],
      "source": [
        "import random\n",
        "import math\n",
        "\n",
        "# Objective function to maximize (e.g., -x^2)\n",
        "def objective_function(x):\n",
        "    return -x**2 + 2  # Peak at x = 0, value = 2\n",
        "\n",
        "# Get a neighbor by small mutation\n",
        "def get_neighbor(x):\n",
        "    return x + random.uniform(-0.1, 0.1)\n",
        "\n",
        "# Hill Climbing algorithm\n",
        "def hill_climb(max_iterations=1000):\n",
        "    current_solution = random.uniform(-1, 1)\n",
        "    current_value = objective_function(current_solution)\n",
        "\n",
        "    print(\"Starting Hill Climbing Algorithm...\")\n",
        "\n",
        "    for i in range(1, max_iterations + 1):\n",
        "        neighbor = get_neighbor(current_solution)\n",
        "        neighbor_value = objective_function(neighbor)\n",
        "\n",
        "        if neighbor_value > current_value:\n",
        "            current_solution = neighbor\n",
        "            current_value = neighbor_value\n",
        "\n",
        "        if i % 100 == 0 or i == 1:\n",
        "            print(f\"Iteration {i}: Best solution = {current_solution}, Objective value = {current_value}\")\n",
        "\n",
        "    print(\"Hill Climbing Algorithm terminated.\")\n",
        "    print(f\"Best solution found: {current_solution}\")\n",
        "    print(f\"Objective value at best solution: {current_value}\")\n",
        "\n",
        "# Run the algorithm\n",
        "hill_climb()\n",
        "\n"
      ]
    }
  ]
}