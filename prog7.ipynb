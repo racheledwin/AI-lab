{
  "nbformat": 4,
  "nbformat_minor": 0,
  "metadata": {
    "colab": {
      "provenance": [],
      "authorship_tag": "ABX9TyMuGq0YcSYnM4JSa365KyBs",
      "include_colab_link": true
    },
    "kernelspec": {
      "name": "python3",
      "display_name": "Python 3"
    },
    "language_info": {
      "name": "python"
    }
  },
  "cells": [
    {
      "cell_type": "markdown",
      "metadata": {
        "id": "view-in-github",
        "colab_type": "text"
      },
      "source": [
        "<a href=\"https://colab.research.google.com/github/racheledwin/AI-lab/blob/main/prog7.ipynb\" target=\"_parent\"><img src=\"https://colab.research.google.com/assets/colab-badge.svg\" alt=\"Open In Colab\"/></a>"
      ]
    },
    {
      "cell_type": "code",
      "execution_count": 1,
      "metadata": {
        "colab": {
          "base_uri": "https://localhost:8080/"
        },
        "id": "oEBaJvAw-Wej",
        "outputId": "a6859b5b-db88-4712-9fb6-f2987e6c616d"
      },
      "outputs": [
        {
          "output_type": "stream",
          "name": "stdout",
          "text": [
            "Solution:\n",
            "{'csc': 'Monday', 'maths': 'Monday', 'phy': 'Monday', 'che': 'Tuesday', 'tam': 'Tuesday', 'eng': 'Tuesday', 'bio': 'Wednesday'}\n"
          ]
        }
      ],
      "source": [
        "# Constraint Satisfaction Problem Example using Backtracking\n",
        "\n",
        "# Variables\n",
        "VARIABLES = ['csc', 'maths', 'phy', 'che', 'tam', 'eng', 'bio']\n",
        "DOMAIN = ['Monday', 'Tuesday', 'Wednesday']\n",
        "\n",
        "# Constraints: Subjects should not repeat on the same day more than a set number of times\n",
        "def is_consistent(assignment, var, value):\n",
        "    # Constraint: No more than 3 subjects on the same day\n",
        "    day_count = list(assignment.values()).count(value)\n",
        "    if day_count >= 3:\n",
        "        return False\n",
        "    return True\n",
        "\n",
        "# Backtracking search\n",
        "def backtrack(assignment):\n",
        "    if len(assignment) == len(VARIABLES):\n",
        "        return assignment\n",
        "\n",
        "    # Select an unassigned variable\n",
        "    unassigned_vars = [v for v in VARIABLES if v not in assignment]\n",
        "    current_var = unassigned_vars[0]\n",
        "\n",
        "    for day in DOMAIN:\n",
        "        if is_consistent(assignment, current_var, day):\n",
        "            assignment[current_var] = day\n",
        "            result = backtrack(assignment)\n",
        "            if result:\n",
        "                return result\n",
        "            # Backtrack\n",
        "            del assignment[current_var]\n",
        "\n",
        "    return None\n",
        "\n",
        "# Solve CSP\n",
        "solution = backtrack({})\n",
        "print(\"Solution:\")\n",
        "print(solution)\n"
      ]
    }
  ]
}